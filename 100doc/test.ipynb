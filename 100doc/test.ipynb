{
 "cells": [
  {
   "cell_type": "code",
   "execution_count": 3,
   "metadata": {
    "collapsed": true
   },
   "outputs": [],
   "source": [
    "from collections import Counter"
   ]
  },
  {
   "cell_type": "code",
   "execution_count": 4,
   "metadata": {},
   "outputs": [],
   "source": [
    "words = \"\"\"The first South African Special Forces unit, 1 Reconnaissance Commando, was established in the town of Oudtshoorn, Cape Province on 1 October 1972. On 1 January 1975, this unit was relocated to Durban, Natal,[8] where it continued its activities as the airborne specialist unit of the special forces.\n",
    "\n",
    "Later, five additional Reconnaissance Commandos were formed:\n",
    "\n",
    "2 Reconnaissance Commando (Citizen Force) - was established in Johannesburg. It was later retired due to rationalisation and the discontinuation of the Citizen Force unit concept\n",
    "3 Reconnaissance Commando (consisting of former Rhodesian Selous Scouts) - was established in Phalaborwa. An attempt to integrate this unit into the South African Military was largely unsuccessful. The unit was disbanded in 1981, and the limited number of remaining personnel were incorporated into the other Special Forces unit.\n",
    "4 Reconnaissance Commando, specialising in seaborne operations, was established in the coastal town of Langebaan, Cape Province.\n",
    "5 Reconnaissance Commando was established at the Duku-Duku camp in Natal, but was later moved to Phalaborwa in the Transvaal province.\n",
    "6 Reconnaissance Commando (consisting of former Rhodesian Special Air Service) – was established in Durban. An attempt to integrate this unit into the South African Military was largely unsuccessful. It was disbanded in 1981, and the limited number of remaining personnel were incorporated into the other Special Forces units.\n",
    "On 1 January 1981, a re-organisation of Special Forces took place, as part of which the Reconnaissance Commandos and other special forces were transformed into an independent formation, directly under the command of the (then) South African Defence Force (instead of the South African Army). As part of the re-organisation, the various Reconnaissance Commandos were also given the status of regiments. In the latter part of the same decade, a Special Forces headquarters and a Special Forces stores depot were also added to the Special Forces structure.\n",
    "\n",
    "Between the years 1981 and 1990, Special Forces was home to unconventional operations such as Project Barnacle, the Civil Cooperation Bureau and other operations conducted under the aegis of 7 Medical Battalion Group.\n",
    "\n",
    "In 1991, the structure of the special forces underwent another change, when the special forces headquarters was disbanded and a Directorate Reconnaissance, reporting directly to the Chief of the Army, was established instead.\n",
    "\n",
    "Another organisational change followed in 1993, when the Directorate Reconnaissance became 45 Parachute Brigade. As a result of this, all the units were renamed: 1 Reconnaissance Regiment became 452 Parachute Battalion, 4 Reconnaissance Regiment became 453 Parachute Battalion and 5 Reconnaissance Regiment became 451 Parachute Battalion.\n",
    "\n",
    "As part of the military rationalization process, 1 Special Forces Regiment was disbanded in 1996. Its personnel were incorporated into the other Special Forces Regiments.\n",
    "\n",
    "In 1997, the Special Forces School was transferred 5 Special Forces Regiment upon the retirement of 1 Special Forces Regiment where the School had previously been based. The Special Forces School was transferred out of 5 Special Forces Regiment in 2002, to become a stand-alone unit.\"\"\".split()"
   ]
  },
  {
   "cell_type": "code",
   "execution_count": 6,
   "metadata": {},
   "outputs": [
    {
     "data": {
      "text/plain": [
       "[('the', 39),\n ('of', 22),\n ('was', 19),\n ('Special', 16),\n ('Forces', 15),\n ('Reconnaissance', 13),\n ('in', 13),\n ('to', 9),\n ('and', 9),\n ('were', 8),\n ('1', 7),\n ('established', 7),\n ('Regiment', 7),\n ('unit', 6),\n ('into', 6),\n ('a', 6),\n ('South', 5),\n ('African', 5),\n ('other', 5),\n ('special', 4),\n ('Commando', 4),\n ('disbanded', 4),\n ('5', 4),\n ('part', 4),\n ('became', 4),\n ('Parachute', 4),\n ('The', 3),\n ('this', 3),\n ('as', 3),\n ('Commandos', 3),\n ('1981,', 3),\n ('personnel', 3),\n ('incorporated', 3),\n ('forces', 3),\n ('As', 3),\n ('In', 3),\n ('School', 3),\n ('Commando,', 2),\n ('town', 2),\n ('Cape', 2),\n ('On', 2),\n ('January', 2),\n ('where', 2),\n ('-', 2),\n ('It', 2),\n ('later', 2),\n ('Force', 2),\n ('(consisting', 2),\n ('former', 2),\n ('Rhodesian', 2),\n ('An', 2),\n ('attempt', 2),\n ('integrate', 2),\n ('Military', 2),\n ('largely', 2),\n ('unsuccessful.', 2),\n ('limited', 2),\n ('number', 2),\n ('remaining', 2),\n ('unit.', 2),\n ('4', 2),\n ('directly', 2),\n ('under', 2),\n ('also', 2),\n ('headquarters', 2),\n ('operations', 2),\n ('Battalion', 2),\n ('when', 2),\n ('Directorate', 2),\n ('transferred', 2),\n ('first', 1),\n ('unit,', 1),\n ('Oudtshoorn,', 1),\n ('Province', 1),\n ('on', 1),\n ('October', 1),\n ('1972.', 1),\n ('1975,', 1),\n ('relocated', 1),\n ('Durban,', 1),\n ('Natal,[8]', 1),\n ('it', 1),\n ('continued', 1),\n ('its', 1),\n ('activities', 1),\n ('airborne', 1),\n ('specialist', 1),\n ('forces.', 1),\n ('Later,', 1),\n ('five', 1),\n ('additional', 1),\n ('formed:', 1),\n ('2', 1),\n ('(Citizen', 1),\n ('Force)', 1),\n ('Johannesburg.', 1),\n ('retired', 1),\n ('due', 1),\n ('rationalisation', 1),\n ('discontinuation', 1),\n ('Citizen', 1),\n ('concept', 1),\n ('3', 1),\n ('Selous', 1),\n ('Scouts)', 1),\n ('Phalaborwa.', 1),\n ('specialising', 1),\n ('seaborne', 1),\n ('operations,', 1),\n ('coastal', 1),\n ('Langebaan,', 1),\n ('Province.', 1),\n ('at', 1),\n ('Duku-Duku', 1),\n ('camp', 1),\n ('Natal,', 1),\n ('but', 1),\n ('moved', 1),\n ('Phalaborwa', 1),\n ('Transvaal', 1),\n ('province.', 1),\n ('6', 1),\n ('Air', 1),\n ('Service)', 1),\n ('–', 1),\n ('Durban.', 1),\n ('units.', 1),\n ('re-organisation', 1),\n ('took', 1),\n ('place,', 1),\n ('which', 1),\n ('transformed', 1),\n ('an', 1),\n ('independent', 1),\n ('formation,', 1),\n ('command', 1),\n ('(then)', 1),\n ('Defence', 1),\n ('(instead', 1),\n ('Army).', 1),\n ('re-organisation,', 1),\n ('various', 1),\n ('given', 1),\n ('status', 1),\n ('regiments.', 1),\n ('latter', 1),\n ('same', 1),\n ('decade,', 1),\n ('stores', 1),\n ('depot', 1),\n ('added', 1),\n ('structure.', 1),\n ('Between', 1),\n ('years', 1),\n ('1981', 1),\n ('1990,', 1),\n ('home', 1),\n ('unconventional', 1),\n ('such', 1),\n ('Project', 1),\n ('Barnacle,', 1),\n ('Civil', 1),\n ('Cooperation', 1),\n ('Bureau', 1),\n ('conducted', 1),\n ('aegis', 1),\n ('7', 1),\n ('Medical', 1),\n ('Group.', 1),\n ('1991,', 1),\n ('structure', 1),\n ('underwent', 1),\n ('another', 1),\n ('change,', 1),\n ('Reconnaissance,', 1),\n ('reporting', 1),\n ('Chief', 1),\n ('Army,', 1),\n ('instead.', 1),\n ('Another', 1),\n ('organisational', 1),\n ('change', 1),\n ('followed', 1),\n ('1993,', 1),\n ('45', 1),\n ('Brigade.', 1),\n ('result', 1),\n ('this,', 1),\n ('all', 1),\n ('units', 1),\n ('renamed:', 1),\n ('452', 1),\n ('Battalion,', 1),\n ('453', 1),\n ('451', 1),\n ('Battalion.', 1),\n ('military', 1),\n ('rationalization', 1),\n ('process,', 1),\n ('1996.', 1),\n ('Its', 1),\n ('Regiments.', 1),\n ('1997,', 1),\n ('upon', 1),\n ('retirement', 1),\n ('had', 1),\n ('previously', 1),\n ('been', 1),\n ('based.', 1),\n ('out', 1),\n ('2002,', 1),\n ('become', 1),\n ('stand-alone', 1)]"
      ]
     },
     "execution_count": 6,
     "metadata": {},
     "output_type": "execute_result"
    }
   ],
   "source": [
    "Counter(words).most_common()"
   ]
  },
  {
   "cell_type": "code",
   "execution_count": null,
   "metadata": {},
   "outputs": [],
   "source": [
    ""
   ]
  }
 ],
 "metadata": {
  "kernelspec": {
   "display_name": "Python 2",
   "language": "python",
   "name": "python2"
  },
  "language_info": {
   "codemirror_mode": {
    "name": "ipython",
    "version": 2.0
   },
   "file_extension": ".py",
   "mimetype": "text/x-python",
   "name": "python",
   "nbconvert_exporter": "python",
   "pygments_lexer": "ipython2",
   "version": "2.7.6"
  }
 },
 "nbformat": 4,
 "nbformat_minor": 0
}