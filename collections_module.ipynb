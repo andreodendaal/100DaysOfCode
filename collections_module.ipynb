{
 "cells": [
  {
   "cell_type": "markdown",
   "metadata": {
    "collapsed": true
   },
   "source": [
    "## Named Tuples"
   ]
  },
  {
   "cell_type": "code",
   "execution_count": 2,
   "metadata": {},
   "outputs": [],
   "source": [
    "from collections import namedtuple, defaultdict, Counter\n",
    "import csv"
   ]
  },
  {
   "cell_type": "code",
   "execution_count": 4,
   "metadata": {},
   "outputs": [],
   "source": [
    "movie_data = 'C:\\repo\\100DaysOfCode\\movies.csv'\n",
    "movies_csv = 'movies.csv'"
   ]
  },
  {
   "cell_type": "code",
   "execution_count": 5,
   "metadata": {},
   "outputs": [],
   "source": [
    "Movie = namedtuple('Movie', 'title year score')"
   ]
  },
  {
   "cell_type": "code",
   "execution_count": 17,
   "metadata": {},
   "outputs": [],
   "source": [
    "def get_movies_bydirector(data=movies_csv):\n",
    "    directors = defaultdict(list)\n",
    "    with open(data, 'r', encoding='utf-8') as f:\n",
    "        for line in csv.DictReader(f):\n",
    "            try:\n",
    "                f_director = line['director_name']\n",
    "                f_title = line['movie_title'].replace('\\xa0', '')\n",
    "                f_year = line['title_year']\n",
    "                f_score = line['imdb_score']\n",
    "            except ValueError:\n",
    "                continue\n",
    "            record = Movie(title=f_title, year=f_year, score=f_score)\n",
    "            directors[f_director].append(record)\n",
    "        return directors\n",
    "           "
   ]
  },
  {
   "cell_type": "code",
   "execution_count": 18,
   "metadata": {},
   "outputs": [],
   "source": [
    "directors = get_movies_bydirector()"
   ]
  },
  {
   "cell_type": "code",
   "execution_count": 19,
   "metadata": {},
   "outputs": [
    {
     "data": {
      "text/plain": [
       "[Movie(title='Miami Vice            ', year='', score='7.5'),\n Movie(title='The A-Team            ', year='', score='7.6'),\n Movie(title='Hannibal            ', year='', score='8.6'),\n Movie(title='Daredevil            ', year='', score='8.8'),\n Movie(title='Bewitched            ', year='', score='7.6'),\n Movie(title='Constantine            ', year='', score='7.5'),\n Movie(title='Life            ', year='', score='8.3'),\n Movie(title='Sleepy Hollow            ', year='', score='7.5'),\n Movie(title='Last Man Standing            ', year='', score='7.4'),\n Movie(title='The Missing            ', year='', score='8.1'),\n Movie(title='Rules of Engagement            ', year='', score='7.3'),\n Movie(title='Sabrina, the Teenage Witch            ', year='', score='6.6'),\n Movie(title='Sex and the City            ', year='', score='7.0'),\n Movie(title='Anger Management            ', year='', score='6.7'),\n Movie(title='Stargate SG-1            ', year='', score='8.4'),\n Movie(title='Unforgotten            ', year='', score='7.9'),\n Movie(title='A Touch of Frost            ', year='', score='7.8'),\n Movie(title='Twisted            ', year='', score='7.5'),\n Movie(title='Defiance            ', year='', score='7.0'),\n Movie(title='Outlander            ', year='', score='8.5'),\n Movie(title='The Returned            ', year='', score='8.3'),\n Movie(title=\"McHale's Navy            \", year='', score='7.5'),\n Movie(title='Arthur            ', year='', score='7.4'),\n Movie(title='3rd Rock from the Sun            ', year='', score='7.8'),\n Movie(title='Rush Hour            ', year='', score='5.8'),\n Movie(title='Hit the Floor            ', year='', score='7.0'),\n Movie(title='Luther            ', year='', score='8.6'),\n Movie(title='Friday Night Lights            ', year='', score='8.7'),\n Movie(title='The Family            ', year='', score='7.5'),\n Movie(title='Entourage            ', year='', score='8.5'),\n Movie(title='Trapped            ', year='', score='8.2'),\n Movie(title='12 Monkeys            ', year='', score='7.6'),\n Movie(title='Limitless            ', year='', score='7.9'),\n Movie(title='The Honeymooners            ', year='', score='8.7'),\n Movie(title=\"It's Always Sunny in Philadelphia            \", year='', score='8.8'),\n Movie(title='Shaun the Sheep            ', year='', score='8.3'),\n Movie(title='The Powerpuff Girls            ', year='', score='7.2'),\n Movie(title='Rogue            ', year='', score='6.8'),\n Movie(title='The Bachelor            ', year='', score='2.9'),\n Movie(title='Meet the Browns            ', year='', score='3.5'),\n Movie(title='Yu-Gi-Oh! Duel Monsters            ', year='', score='7.0'),\n Movie(title='Fired Up            ', year='', score='6.7'),\n Movie(title='Perception            ', year='', score='7.5'),\n Movie(title='The Doombolt Chase            ', year='', score='7.2'),\n Movie(title='Gone, Baby, Gone            ', year='', score='6.6'),\n Movie(title='The O.C.            ', year='', score='7.5'),\n Movie(title='Unforgettable            ', year='', score='6.7'),\n Movie(title='Carlos            ', year='', score='7.7'),\n Movie(title='The Messengers            ', year='', score='6.6'),\n Movie(title='Lilyhammer            ', year='', score='8.1'),\n Movie(title='Scream: The TV Series            ', year='', score='7.3'),\n Movie(title='The Dead Zone            ', year='', score='7.5'),\n Movie(title='The Company            ', year='', score='7.9'),\n Movie(title='Ghost Hunters            ', year='', score='6.6'),\n Movie(title='Dekalog            ', year='', score='9.1'),\n Movie(title='The Border            ', year='', score='7.4'),\n Movie(title='Spartacus: War of the Damned            ', year='', score='8.6'),\n Movie(title='Lovesick            ', year='', score='7.9'),\n Movie(title='Bones            ', year='', score='7.9'),\n Movie(title='Dekalog            ', year='', score='9.1'),\n Movie(title='The Bold and the Beautiful            ', year='', score='3.5'),\n Movie(title='Star Wars: The Clone Wars            ', year='', score='7.9'),\n Movie(title='The Player            ', year='', score='7.1'),\n Movie(title='Preacher            ', year='', score='8.3'),\n Movie(title='Wuthering Heights            ', year='', score='7.7'),\n Movie(title='Fargo            ', year='', score='9.0'),\n Movie(title='Buffy the Vampire Slayer            ', year='', score='8.2'),\n Movie(title='Nikita            ', year='', score='7.7'),\n Movie(title='Dark Angel            ', year='', score='7.4'),\n Movie(title='Gomorrah            ', year='', score='8.7'),\n Movie(title='War & Peace            ', year='', score='8.2'),\n Movie(title='Veronica Mars            ', year='', score='8.4'),\n Movie(title='Emma            ', year='', score='8.2'),\n Movie(title='The Inbetweeners            ', year='', score='8.4'),\n Movie(title='Saving Grace            ', year='', score='7.5'),\n Movie(title='Psych            ', year='', score='8.4'),\n Movie(title='Secrets and Lies            ', year='', score='7.7'),\n Movie(title='Anne of Green Gables            ', year='', score='8.4'),\n Movie(title='Animal Kingdom            ', year='', score='8.1'),\n Movie(title='Saving Grace            ', year='', score='7.5'),\n Movie(title='Sonny with a Chance            ', year='', score='6.1'),\n Movie(title='M*A*S*H            ', year='', score='8.4'),\n Movie(title='Empire            ', year='', score='7.8'),\n Movie(title='The Secret            ', year='', score='7.3'),\n Movie(title='Robot Chicken            ', year='', score='7.8'),\n Movie(title='Deadline Gallipoli            ', year='', score='7.4'),\n Movie(title='Creature            ', year='', score='5.0'),\n Movie(title='BrainDead            ', year='', score='7.9'),\n Movie(title='The Grand            ', year='', score='7.6'),\n Movie(title='In the Heat of the Night            ', year='', score='7.4'),\n Movie(title='Strangers with Candy            ', year='', score='8.1'),\n Movie(title='Get Real            ', year='', score='7.3'),\n Movie(title='Eureka            ', year='', score='7.9'),\n Movie(title='Wings            ', year='', score='7.3'),\n Movie(title='The Streets of San Francisco            ', year='', score='7.3'),\n Movie(title='Space: Above and Beyond            ', year='', score='7.7'),\n Movie(title='The Girlfriend Experience            ', year='', score='7.3'),\n Movie(title='Wolf Creek            ', year='', score='7.1'),\n Movie(title='Jesse            ', year='', score='5.9'),\n Movie(title='Heroes            ', year='', score='7.7'),\n Movie(title='Home Movies            ', year='', score='8.2'),\n Movie(title='Revolution            ', year='', score='6.7'),\n Movie(title='Happy Valley            ', year='', score='8.5'),\n Movie(title='The Following            ', year='', score='7.5')]"
      ]
     },
     "execution_count": 19,
     "metadata": {},
     "output_type": "execute_result"
    }
   ],
   "source": [
    "directors['']"
   ]
  },
  {
   "cell_type": "code",
   "execution_count": 14,
   "metadata": {},
   "outputs": [
    {
     "data": {
      "text/plain": [
       "[('', 104),\n ('Steven Spielberg', 26),\n ('Woody Allen', 22),\n ('Martin Scorsese', 20),\n ('Clint Eastwood', 20),\n ('Ridley Scott', 17),\n ('Tim Burton', 16),\n ('Steven Soderbergh', 16),\n ('Spike Lee', 16),\n ('Renny Harlin', 15),\n ('Oliver Stone', 14),\n ('Sam Raimi', 13),\n ('Michael Bay', 13),\n ('Robert Zemeckis', 13),\n ('Ron Howard', 13)]"
      ]
     },
     "execution_count": 14,
     "metadata": {},
     "output_type": "execute_result"
    }
   ],
   "source": [
    "cnt = Counter()\n",
    "for director, movies in directors.items():\n",
    "    cnt[director] += len(movies)\n",
    "\n",
    "cnt.most_common(15)"
   ]
  },
  {
   "cell_type": "code",
   "execution_count": null,
   "metadata": {},
   "outputs": [],
   "source": []
  }
 ],
 "metadata": {
  "kernelspec": {
   "display_name": "Python 3",
   "language": "python",
   "name": "python3"
  },
  "language_info": {
   "codemirror_mode": {
    "name": "ipython",
    "version": 3
   },
   "file_extension": ".py",
   "mimetype": "text/x-python",
   "name": "python",
   "nbconvert_exporter": "python",
   "pygments_lexer": "ipython3",
   "version": "3.6.5"
  }
 },
 "nbformat": 4,
 "nbformat_minor": 1
}
