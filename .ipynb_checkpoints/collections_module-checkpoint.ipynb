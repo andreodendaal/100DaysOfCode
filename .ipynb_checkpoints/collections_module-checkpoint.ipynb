{
 "cells": [
  {
   "cell_type": "markdown",
   "metadata": {
    "collapsed": true
   },
   "source": [
    "## Named Tuples"
   ]
  },
  {
   "cell_type": "code",
   "execution_count": 2,
   "metadata": {},
   "outputs": [],
   "source": [
    "# Import Modules"
   ]
  },
  {
   "cell_type": "code",
   "execution_count": 3,
   "metadata": {},
   "outputs": [],
   "source": [
    "import collections"
   ]
  },
  {
   "cell_type": "markdown",
   "metadata": {},
   "source": [
    "## Counter"
   ]
  },
  {
   "cell_type": "code",
   "execution_count": 4,
   "metadata": {},
   "outputs": [],
   "source": [
    "words = \"\"\"The first South African Special Forces unit, 1 Reconnaissance Commando, was established in the town of Oudtshoorn, Cape Province on 1 October 1972. On 1 January 1975, this unit was relocated to Durban, Natal,[8] where it continued its activities as the airborne specialist unit of the special forces.\n",
    "\n",
    "Later, five additional Reconnaissance Commandos were formed:\n",
    "\n",
    "2 Reconnaissance Commando (Citizen Force) - was established in Johannesburg. It was later retired due to rationalisation and the discontinuation of the Citizen Force unit concept\n",
    "3 Reconnaissance Commando (consisting of former Rhodesian Selous Scouts) - was established in Phalaborwa. An attempt to integrate this unit into the South African Military was largely unsuccessful. The unit was disbanded in 1981, and the limited number of remaining personnel were incorporated into the other Special Forces unit.\n",
    "4 Reconnaissance Commando, specialising in seaborne operations, was established in the coastal town of Langebaan, Cape Province.\n",
    "5 Reconnaissance Commando was established at the Duku-Duku camp in Natal, but was later moved to Phalaborwa in the Transvaal province.\n",
    "6 Reconnaissance Commando (consisting of former Rhodesian Special Air Service) – was established in Durban. An attempt to integrate this unit into the South African Military was largely unsuccessful. It was disbanded in 1981, and the limited number of remaining personnel were incorporated into the other Special Forces units.\n",
    "On 1 January 1981, a re-organisation of Special Forces took place, as part of which the Reconnaissance Commandos and other special forces were transformed into an independent formation, directly under the command of the (then) South African Defence Force (instead of the South African Army). As part of the re-organisation, the various Reconnaissance Commandos were also given the status of regiments. In the latter part of the same decade, a Special Forces headquarters and a Special Forces stores depot were also added to the Special Forces structure.\n",
    "\n",
    "Between the years 1981 and 1990, Special Forces was home to unconventional operations such as Project Barnacle, the Civil Cooperation Bureau and other operations conducted under the aegis of 7 Medical Battalion Group.\n",
    "\n",
    "In 1991, the structure of the special forces underwent another change, when the special forces headquarters was disbanded and a Directorate Reconnaissance, reporting directly to the Chief of the Army, was established instead.\n",
    "\n",
    "Another organisational change followed in 1993, when the Directorate Reconnaissance became 45 Parachute Brigade. As a result of this, all the units were renamed: 1 Reconnaissance Regiment became 452 Parachute Battalion, 4 Reconnaissance Regiment became 453 Parachute Battalion and 5 Reconnaissance Regiment became 451 Parachute Battalion.\n",
    "\n",
    "As part of the military rationalization process, 1 Special Forces Regiment was disbanded in 1996. Its personnel were incorporated into the other Special Forces Regiments.\n",
    "\n",
    "In 1997, the Special Forces School was transferred 5 Special Forces Regiment upon the retirement of 1 Special Forces Regiment where the School had previously been based. The Special Forces School was transferred out of 5 Special Forces Regiment in 2002, to become a stand-alone unit.\"\"\".split()"
   ]
  },
  {
   "cell_type": "code",
   "execution_count": 5,
   "metadata": {},
   "outputs": [
    {
     "data": {
      "text/plain": [
       "['The', 'first', 'South', 'African', 'Special']"
      ]
     },
     "execution_count": 5,
     "metadata": {},
     "output_type": "execute_result"
    }
   ],
   "source": [
    "words[:5]"
   ]
  },
  {
   "cell_type": "code",
   "execution_count": 6,
   "metadata": {},
   "outputs": [
    {
     "data": {
      "text/plain": [
       "[('the', 39), ('of', 22), ('was', 19), ('Special', 16), ('Forces', 15)]"
      ]
     },
     "execution_count": 6,
     "metadata": {},
     "output_type": "execute_result"
    }
   ],
   "source": [
    "collections.Counter(words).most_common(5)"
   ]
  },
  {
   "cell_type": "heading",
   "metadata": {},
   "level": 1,
   "source": [
    "# Deque"
   ]
  },
  {
   "cell_type": "code",
   "execution_count": 2,
   "metadata": {},
   "outputs": [],
   "source": [
    "from collections import deque\n",
    "import timeit\n",
    "import random"
   ]
  },
  {
   "cell_type": "code",
   "execution_count": 3,
   "metadata": {},
   "outputs": [],
   "source": [
    "lst = list(range(1000000))\n",
    "deq = deque(range(1000000))"
   ]
  },
  {
   "cell_type": "code",
   "execution_count": 12,
   "metadata": {},
   "outputs": [],
   "source": [
    "def proc_ds(ds):\n",
    "    item = random.choice(range(100))\n",
    "    ds.remove(item)\n",
    "    ds.insert(item, item)"
   ]
  },
  {
   "cell_type": "code",
   "execution_count": 13,
   "metadata": {},
   "outputs": [
    {
     "name": "stdout",
     "output_type": "stream",
     "text": [
      "1.54 ms ± 49.3 µs per loop (mean ± std. dev. of 7 runs, 1000 loops each)\n"
     ]
    }
   ],
   "source": [
    "%timeit proc_ds(lst)"
   ]
  },
  {
   "cell_type": "code",
   "execution_count": 15,
   "metadata": {},
   "outputs": [
    {
     "name": "stdout",
     "output_type": "stream",
     "text": [
      "3.41 µs ± 82.3 ns per loop (mean ± std. dev. of 7 runs, 100000 loops each)\n"
     ]
    }
   ],
   "source": [
    "%timeit proc_ds(deq)"
   ]
  },
  {
   "cell_type": "markdown",
   "metadata": {},
   "source": [
    "# Practice\n",
    "\n",
    "https://pybit.es/codechallenge13.html"
   ]
  },
  {
   "cell_type": "markdown",
   "metadata": {},
   "source": [
    ""
   ]
  },
  {
   "cell_type": "code",
   "execution_count": 17,
   "metadata": {},
   "outputs": [],
   "source": [
    ""
   ]
  },
  {
   "cell_type": "code",
   "execution_count": null,
   "metadata": {},
   "outputs": [],
   "source": [
    ""
   ]
  }
 ],
 "metadata": {
  "kernelspec": {
   "display_name": "Python 3",
   "language": "python",
   "name": "python3"
  },
  "language_info": {
   "codemirror_mode": {
    "name": "ipython",
    "version": 3.0
   },
   "file_extension": ".py",
   "mimetype": "text/x-python",
   "name": "python",
   "nbconvert_exporter": "python",
   "pygments_lexer": "ipython3",
   "version": "3.6.3"
  }
 },
 "nbformat": 4,
 "nbformat_minor": 0
}